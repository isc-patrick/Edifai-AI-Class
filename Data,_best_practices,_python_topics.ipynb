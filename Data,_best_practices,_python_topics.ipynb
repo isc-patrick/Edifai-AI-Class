{
  "nbformat": 4,
  "nbformat_minor": 0,
  "metadata": {
    "colab": {
      "provenance": [],
      "authorship_tag": "ABX9TyOZ/DzuouOkRuhGpvw1nj7Z",
      "include_colab_link": true
    },
    "kernelspec": {
      "name": "python3",
      "display_name": "Python 3"
    },
    "language_info": {
      "name": "python"
    }
  },
  "cells": [
    {
      "cell_type": "markdown",
      "metadata": {
        "id": "view-in-github",
        "colab_type": "text"
      },
      "source": [
        "<a href=\"https://colab.research.google.com/github/isc-patrick/Edifai-AI-Class/blob/main/Data%2C_best_practices%2C_python_topics.ipynb\" target=\"_parent\"><img src=\"https://colab.research.google.com/assets/colab-badge.svg\" alt=\"Open In Colab\"/></a>"
      ]
    },
    {
      "cell_type": "markdown",
      "source": [
        "# Steps to prepare for InstallFest - Rough Draft\n",
        "\n",
        "I think this structure is what created a lot of work for the last class as a workspace/account has to be create for every team. This probably can only be avoided(or made easier) by having an Enterprise level account with HuggingFace\n",
        "\n",
        "1. Create 20 Accounts, one for each team: Team11, Team12,... Team15, Team21, ...Team54\n",
        "  2. This requires an edifai email for each team and a password.\n",
        "\n"
      ],
      "metadata": {
        "id": "wlCBlNEo8Dnm"
      }
    },
    {
      "cell_type": "markdown",
      "source": [
        "Collab notebooks are ephemeral, both their compute and storage. The folder icon in the left menu opens your local ephemeral storage directory. For non-ephemeral storage we are using hugging face datasets and provide some functions to load and save files that you want persisted. For any intermediate data files that you do not want to persist for longer than the current session, you should use the local file system.  Note that Collab sessions can end at anytime forcing you to reconnect to a new process.\n",
        "\n",
        "\n",
        "A Dataset in huggingface is both a git repo and a class. The Dataset class can load a repo, there is typically a 1-1 reltaionship. However, we are also using Datasets as a persistent store. So be aware that the term dataset can refer to the dataset repo, https://huggingface.co/docs/datasets/en/upload_dataset#create-a-repository, or a dataset object, https://huggingface.co/docs/datasets/en/index.\n"
      ],
      "metadata": {
        "id": "YPjw_u-ce5fs"
      }
    },
    {
      "cell_type": "markdown",
      "source": [
        "# Step 1\n",
        "Create an access token for your HuggingFace account. Log into Hugging Face and go to this page and create a write token, https://huggingface.co/settings/tokens. Add this as a Secret in the notebook with the name HF_TOKEN."
      ],
      "metadata": {
        "id": "iwON_eajALRt"
      }
    },
    {
      "cell_type": "code",
      "source": [
        "# Step 2 - CHECK ACCESS TOKEN\n",
        "\n",
        "import os\n",
        "from huggingface_hub import HfApi\n",
        "from huggingface_hub import login\n",
        "from google.colab import userdata\n",
        "\n",
        "# Check access token\n",
        "login(userdata.get('HF_TOKEN'))\n",
        "api = HfApi()\n",
        "\n",
        "# Do this on init, will use later\n",
        "REPO_PREFIX = \"patjs/\"\n",
        "LOCAL_ROOT_DIR = \"patient1\"\n",
        "repo_id = f\"{REPO_PREFIX}{LOCAL_ROOT_DIR}\"\n",
        "\n",
        "# Throws an exception if it does not exist or have no access\n",
        "api.auth_check(repo_id=BASE_REPO, repo_type=\"dataset\")\n",
        "\n",
        "print(\"looks good\")"
      ],
      "metadata": {
        "colab": {
          "base_uri": "https://localhost:8080/"
        },
        "id": "VRd_IrC99mtV",
        "outputId": "4438219a-518a-4357-b619-fa80547626b5"
      },
      "execution_count": 7,
      "outputs": [
        {
          "output_type": "stream",
          "name": "stdout",
          "text": [
            "looks good\n"
          ]
        }
      ]
    },
    {
      "cell_type": "code",
      "source": [
        "# STEP 3 - create a dataset repo, check it and then delete\n",
        "\n",
        "\n",
        "from huggingface_hub import create_repo, delete_repo\n",
        "new_repo = f\"{REPO_PREFIX}{LOCAL_ROOT_DIR}\"\n",
        "\n",
        "repo_url = create_repo(new_repo, repo_type=\"dataset\")\n",
        "print(f\" Created {repo_url}\")\n"
      ],
      "metadata": {
        "colab": {
          "base_uri": "https://localhost:8080/"
        },
        "id": "YyOuBTpX7r78",
        "outputId": "c857936b-cbe5-4d9e-ec6f-1480bd0efab9"
      },
      "execution_count": 26,
      "outputs": [
        {
          "output_type": "stream",
          "name": "stdout",
          "text": [
            " Created https://huggingface.co/datasets/patjs/mydata\n"
          ]
        }
      ]
    },
    {
      "cell_type": "code",
      "source": [
        "delete_repo(new_repo, repo_type=\"dataset\")\n",
        "print(f\" Deleted {repo_url}\")\n"
      ],
      "metadata": {
        "colab": {
          "base_uri": "https://localhost:8080/"
        },
        "id": "Safq3hTXCKgU",
        "outputId": "f85e57c2-15d9-4298-94ef-5f721a800ae9"
      },
      "execution_count": 27,
      "outputs": [
        {
          "output_type": "stream",
          "name": "stdout",
          "text": [
            " Deleted https://huggingface.co/datasets/patjs/mydata\n"
          ]
        }
      ]
    },
    {
      "cell_type": "code",
      "source": [
        "# Load and Save File functions\n",
        "\n",
        "from huggingface_hub import login\n",
        "from google.colab import userdata\n",
        "import os\n",
        "\n",
        "login(userdata.get('HF_TOKEN'))\n",
        "\n",
        "from huggingface_hub import HfApi\n",
        "api = HfApi()\n",
        "\n",
        "def load_file(filename, foldername) -> str:\n",
        "  \"\"\"\n",
        "  load_file takes a filename and foldername for a hugging face dataset, loads the file into the collab file system\n",
        "  and returns the filepath. The filepath is returned instead of the file content so it can be used in other functions that\n",
        "  load data via a local file path, like pandas.read_csv(file_path).\n",
        "\n",
        "  \"\"\"\n",
        "  filepath =  api.hf_hub_download(repo_id=repo_id, filename=filename, subfolder=foldername, repo_type=\"dataset\")\n",
        "\n",
        "  with open(filepath, 'r') as fi:\n",
        "    data = fi.read()\n",
        "\n",
        "  local_dir = os.path.join(repo_id,foldername)\n",
        "\n",
        "  # create the dir if it doesn't exist\n",
        "  if not os.path.exists(local_dir):\n",
        "    os.makedirs(local_dir, exist_ok=True)\n",
        "\n",
        "  local_path = os.path.join(repo_id,foldername,filename)\n",
        "\n",
        "  with open(local_path, 'w') as fo:\n",
        "    fo.write(data)\n",
        "\n",
        "  return local_path\n",
        "\n",
        "\n",
        "def save_file(file_obj, file_name):\n",
        "  api.upload_file(\n",
        "      path_or_fileobj=file_obj,\n",
        "      path_in_repo=file_name,\n",
        "      repo_id=repo_id,\n",
        "      repo_type=\"dataset\",\n",
        "  )"
      ],
      "metadata": {
        "id": "18HZQ-31gZ17"
      },
      "execution_count": 10,
      "outputs": []
    },
    {
      "cell_type": "code",
      "source": [
        "\"\"\" Some Python topics\n",
        "    - Pandas vs HF Datasets\n",
        "    - Git vs HTTP for repos\n",
        "      - https://huggingface.co/docs/huggingface_hub/en/concepts/git_vs_http\n",
        "\n",
        "\n",
        "\"\"\""
      ],
      "metadata": {
        "id": "Vg0rtbetho15"
      },
      "execution_count": null,
      "outputs": []
    },
    {
      "cell_type": "code",
      "source": [
        "\"\"\"\n",
        "Jupyter best practices and tips\n",
        "  - Use cells to quickly get working code and refactor into functions and classes as notebook grows\n",
        "  - If you experience \"weird\" behavior, restarting the kernel is a good place to start\n",
        "    - old variables, variable name changes can make the working memory hide errors no longer visible in code and have other side effects\n",
        "  - Use hot keys. Jupyter is primarily about speed of iteration and presentation\n",
        "  - If you want to reuse code, but don't want to copy and paste code into different notebooks you can save to a file and import it.\n",
        "\n",
        "\"\"\""
      ],
      "metadata": {
        "id": "ld4R0eakIwG5"
      },
      "execution_count": null,
      "outputs": []
    },
    {
      "cell_type": "code",
      "source": [
        "%%writefile my_script.py\n",
        "# This is a Python script\n",
        "def my_function():\n",
        "    print(\"Hello from my_function!\")\n",
        "\n",
        "my_function()\n"
      ],
      "metadata": {
        "colab": {
          "base_uri": "https://localhost:8080/"
        },
        "id": "siWfITJ_LEoD",
        "outputId": "28abfea3-1fb2-491a-8d70-4b433824f44b"
      },
      "execution_count": 1,
      "outputs": [
        {
          "output_type": "stream",
          "name": "stdout",
          "text": [
            "Overwriting my_script.py\n"
          ]
        }
      ]
    },
    {
      "cell_type": "code",
      "source": [
        "# Note that this will only be imported once so you will have to restart kernal to see the print from my_function\n",
        "import my_script\n",
        "\n",
        "# Save the file to HF dataset persistence\n",
        "save_file(\"./my_script.py\", \"my_script.py\")"
      ],
      "metadata": {
        "id": "Ql_nL4fMLVMf"
      },
      "execution_count": 8,
      "outputs": []
    },
    {
      "cell_type": "code",
      "source": [
        "\n",
        "# Restart the kernal then run the # Step 2 - CHECK ACCESS TOKEN And the # Load and Save File functions and the cell and then this cell\n",
        "load_file(\"my_script.py\", \"\")\n",
        "import my_script"
      ],
      "metadata": {
        "colab": {
          "base_uri": "https://localhost:8080/"
        },
        "id": "R6RkObpBNDI4",
        "outputId": "c581660c-cd46-4b4c-aaed-4e8d8177c5e8"
      },
      "execution_count": 11,
      "outputs": [
        {
          "output_type": "stream",
          "name": "stdout",
          "text": [
            "Hello from my_function!\n"
          ]
        }
      ]
    },
    {
      "cell_type": "code",
      "source": [
        "# Remembering what cells to run is not the right way\n",
        "# Open this refactored version with all code put into functions and then create cells to show workflows"
      ],
      "metadata": {
        "id": "EuNBPowuO0xg"
      },
      "execution_count": null,
      "outputs": []
    }
  ]
}